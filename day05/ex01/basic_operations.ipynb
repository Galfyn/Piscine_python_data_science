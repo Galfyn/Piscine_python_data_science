{
 "cells": [
  {
   "cell_type": "code",
   "execution_count": 128,
   "metadata": {
    "collapsed": true
   },
   "outputs": [],
   "source": [
    "import pandas as pd"
   ]
  },
  {
   "cell_type": "code",
   "execution_count": 129,
   "outputs": [
    {
     "name": "stdout",
     "output_type": "stream",
     "text": [
      "<class 'pandas.core.frame.DataFrame'>\n",
      "RangeIndex: 1075 entries, 0 to 1074\n",
      "Data columns (total 8 columns):\n",
      " #   Column    Non-Null Count  Dtype         \n",
      "---  ------    --------------  -----         \n",
      " 0   datetime  1075 non-null   datetime64[ns]\n",
      " 1   user      1075 non-null   object        \n",
      " 2   year      1075 non-null   int64         \n",
      " 3   month     1075 non-null   int64         \n",
      " 4   day       1075 non-null   int64         \n",
      " 5   hour      1075 non-null   int64         \n",
      " 6   minute    1075 non-null   int64         \n",
      " 7   second    1075 non-null   int64         \n",
      "dtypes: datetime64[ns](1), int64(6), object(1)\n",
      "memory usage: 67.3+ KB\n"
     ]
    }
   ],
   "source": [
    "df = pd.read_csv('../data/feed-views.log', sep='\\t', header=0, names=['datetime', 'user'])\n",
    "df['datetime'] = pd.to_datetime(df['datetime'])\n",
    "df['year'] = df['datetime'].dt.year\n",
    "df['month'] = df['datetime'].dt.month\n",
    "df['day'] = df['datetime'].dt.day\n",
    "df['hour'] = df['datetime'].dt.hour\n",
    "df['minute'] = df['datetime'].dt.minute\n",
    "df['second'] = df['datetime'].dt.second\n",
    "df.info()"
   ],
   "metadata": {
    "collapsed": false
   }
  },
  {
   "cell_type": "code",
   "execution_count": 130,
   "outputs": [
    {
     "data": {
      "text/plain": "                            datetime  year  month  day  hour  minute  second  \\\nuser                                                                           \nartem     2020-04-17 12:01:23.743946  2020      4   17    12       1      23   \nartem     2020-04-17 12:27:30.646665  2020      4   17    12      27      30   \nartem     2020-04-17 12:35:44.884757  2020      4   17    12      35      44   \nartem     2020-04-17 12:35:52.735016  2020      4   17    12      35      52   \noksana    2020-04-17 12:36:21.401412  2020      4   17    12      36      21   \n...                              ...   ...    ...  ...   ...     ...     ...   \nvalentina 2020-05-21 18:45:20.441142  2020      5   21    18      45      20   \nmaxim     2020-05-21 23:03:06.457819  2020      5   21    23       3       6   \npavel     2020-05-21 23:23:49.995349  2020      5   21    23      23      49   \nartem     2020-05-21 23:49:22.386789  2020      5   21    23      49      22   \nartem     2020-05-22 10:36:14.662600  2020      5   22    10      36      14   \n\n                 daytime  \nuser                      \nartem          afternoon  \nartem          afternoon  \nartem          afternoon  \nartem          afternoon  \noksana         afternoon  \n...                  ...  \nvalentina  early evening  \nmaxim            evening  \npavel            evening  \nartem            evening  \nartem            morning  \n\n[1075 rows x 8 columns]",
      "text/html": "<div>\n<style scoped>\n    .dataframe tbody tr th:only-of-type {\n        vertical-align: middle;\n    }\n\n    .dataframe tbody tr th {\n        vertical-align: top;\n    }\n\n    .dataframe thead th {\n        text-align: right;\n    }\n</style>\n<table border=\"1\" class=\"dataframe\">\n  <thead>\n    <tr style=\"text-align: right;\">\n      <th></th>\n      <th>datetime</th>\n      <th>year</th>\n      <th>month</th>\n      <th>day</th>\n      <th>hour</th>\n      <th>minute</th>\n      <th>second</th>\n      <th>daytime</th>\n    </tr>\n    <tr>\n      <th>user</th>\n      <th></th>\n      <th></th>\n      <th></th>\n      <th></th>\n      <th></th>\n      <th></th>\n      <th></th>\n      <th></th>\n    </tr>\n  </thead>\n  <tbody>\n    <tr>\n      <th>artem</th>\n      <td>2020-04-17 12:01:23.743946</td>\n      <td>2020</td>\n      <td>4</td>\n      <td>17</td>\n      <td>12</td>\n      <td>1</td>\n      <td>23</td>\n      <td>afternoon</td>\n    </tr>\n    <tr>\n      <th>artem</th>\n      <td>2020-04-17 12:27:30.646665</td>\n      <td>2020</td>\n      <td>4</td>\n      <td>17</td>\n      <td>12</td>\n      <td>27</td>\n      <td>30</td>\n      <td>afternoon</td>\n    </tr>\n    <tr>\n      <th>artem</th>\n      <td>2020-04-17 12:35:44.884757</td>\n      <td>2020</td>\n      <td>4</td>\n      <td>17</td>\n      <td>12</td>\n      <td>35</td>\n      <td>44</td>\n      <td>afternoon</td>\n    </tr>\n    <tr>\n      <th>artem</th>\n      <td>2020-04-17 12:35:52.735016</td>\n      <td>2020</td>\n      <td>4</td>\n      <td>17</td>\n      <td>12</td>\n      <td>35</td>\n      <td>52</td>\n      <td>afternoon</td>\n    </tr>\n    <tr>\n      <th>oksana</th>\n      <td>2020-04-17 12:36:21.401412</td>\n      <td>2020</td>\n      <td>4</td>\n      <td>17</td>\n      <td>12</td>\n      <td>36</td>\n      <td>21</td>\n      <td>afternoon</td>\n    </tr>\n    <tr>\n      <th>...</th>\n      <td>...</td>\n      <td>...</td>\n      <td>...</td>\n      <td>...</td>\n      <td>...</td>\n      <td>...</td>\n      <td>...</td>\n      <td>...</td>\n    </tr>\n    <tr>\n      <th>valentina</th>\n      <td>2020-05-21 18:45:20.441142</td>\n      <td>2020</td>\n      <td>5</td>\n      <td>21</td>\n      <td>18</td>\n      <td>45</td>\n      <td>20</td>\n      <td>early evening</td>\n    </tr>\n    <tr>\n      <th>maxim</th>\n      <td>2020-05-21 23:03:06.457819</td>\n      <td>2020</td>\n      <td>5</td>\n      <td>21</td>\n      <td>23</td>\n      <td>3</td>\n      <td>6</td>\n      <td>evening</td>\n    </tr>\n    <tr>\n      <th>pavel</th>\n      <td>2020-05-21 23:23:49.995349</td>\n      <td>2020</td>\n      <td>5</td>\n      <td>21</td>\n      <td>23</td>\n      <td>23</td>\n      <td>49</td>\n      <td>evening</td>\n    </tr>\n    <tr>\n      <th>artem</th>\n      <td>2020-05-21 23:49:22.386789</td>\n      <td>2020</td>\n      <td>5</td>\n      <td>21</td>\n      <td>23</td>\n      <td>49</td>\n      <td>22</td>\n      <td>evening</td>\n    </tr>\n    <tr>\n      <th>artem</th>\n      <td>2020-05-22 10:36:14.662600</td>\n      <td>2020</td>\n      <td>5</td>\n      <td>22</td>\n      <td>10</td>\n      <td>36</td>\n      <td>14</td>\n      <td>morning</td>\n    </tr>\n  </tbody>\n</table>\n<p>1075 rows × 8 columns</p>\n</div>"
     },
     "execution_count": 130,
     "metadata": {},
     "output_type": "execute_result"
    }
   ],
   "source": [
    "labels = ['night', 'early morning', 'morning', 'afternoon', 'early evening', 'evening']\n",
    "bins = [0, 4, 7, 11, 17, 20, 24]\n",
    "df['daytime'] = pd.cut(df['hour'], labels=labels, bins=bins, include_lowest=True, right=False)\n",
    "df.set_index('user', inplace=True)\n",
    "df"
   ],
   "metadata": {
    "collapsed": false
   }
  },
  {
   "cell_type": "code",
   "execution_count": 131,
   "outputs": [
    {
     "data": {
      "text/plain": "datetime    1075\nyear        1075\nmonth       1075\nday         1075\nhour        1075\nminute      1075\nsecond      1075\ndaytime     1075\ndtype: int64"
     },
     "execution_count": 131,
     "metadata": {},
     "output_type": "execute_result"
    }
   ],
   "source": [
    "df.count()"
   ],
   "metadata": {
    "collapsed": false
   }
  },
  {
   "cell_type": "code",
   "execution_count": 132,
   "outputs": [
    {
     "data": {
      "text/plain": "daytime\nevening          509\nafternoon        251\nearly evening    145\nnight            129\nmorning           36\nearly morning      5\ndtype: int64"
     },
     "execution_count": 132,
     "metadata": {},
     "output_type": "execute_result"
    }
   ],
   "source": [
    "df.value_counts('daytime')"
   ],
   "metadata": {
    "collapsed": false
   }
  },
  {
   "cell_type": "code",
   "execution_count": 133,
   "outputs": [
    {
     "data": {
      "text/plain": "                            datetime  year  month  day  hour  minute  second  \\\nuser                                                                           \nvalentina 2020-05-15 00:00:13.222265  2020      5   15     0       0      13   \nvalentina 2020-05-15 00:01:05.153738  2020      5   15     0       1       5   \npavel     2020-05-12 00:01:27.764025  2020      5   12     0       1      27   \npavel     2020-05-12 00:01:38.444917  2020      5   12     0       1      38   \npavel     2020-05-12 00:01:55.395042  2020      5   12     0       1      55   \n...                              ...   ...    ...  ...   ...     ...     ...   \nartem     2020-05-21 23:49:22.386789  2020      5   21    23      49      22   \nanatoliy  2020-05-09 23:53:55.599821  2020      5    9    23      53      55   \npavel     2020-05-09 23:54:54.260791  2020      5    9    23      54      54   \nvalentina 2020-05-14 23:58:56.754866  2020      5   14    23      58      56   \nalexander 2020-05-14 23:59:38.758438  2020      5   14    23      59      38   \n\n           daytime  \nuser                \nvalentina    night  \nvalentina    night  \npavel        night  \npavel        night  \npavel        night  \n...            ...  \nartem      evening  \nanatoliy   evening  \npavel      evening  \nvalentina  evening  \nalexander  evening  \n\n[1075 rows x 8 columns]",
      "text/html": "<div>\n<style scoped>\n    .dataframe tbody tr th:only-of-type {\n        vertical-align: middle;\n    }\n\n    .dataframe tbody tr th {\n        vertical-align: top;\n    }\n\n    .dataframe thead th {\n        text-align: right;\n    }\n</style>\n<table border=\"1\" class=\"dataframe\">\n  <thead>\n    <tr style=\"text-align: right;\">\n      <th></th>\n      <th>datetime</th>\n      <th>year</th>\n      <th>month</th>\n      <th>day</th>\n      <th>hour</th>\n      <th>minute</th>\n      <th>second</th>\n      <th>daytime</th>\n    </tr>\n    <tr>\n      <th>user</th>\n      <th></th>\n      <th></th>\n      <th></th>\n      <th></th>\n      <th></th>\n      <th></th>\n      <th></th>\n      <th></th>\n    </tr>\n  </thead>\n  <tbody>\n    <tr>\n      <th>valentina</th>\n      <td>2020-05-15 00:00:13.222265</td>\n      <td>2020</td>\n      <td>5</td>\n      <td>15</td>\n      <td>0</td>\n      <td>0</td>\n      <td>13</td>\n      <td>night</td>\n    </tr>\n    <tr>\n      <th>valentina</th>\n      <td>2020-05-15 00:01:05.153738</td>\n      <td>2020</td>\n      <td>5</td>\n      <td>15</td>\n      <td>0</td>\n      <td>1</td>\n      <td>5</td>\n      <td>night</td>\n    </tr>\n    <tr>\n      <th>pavel</th>\n      <td>2020-05-12 00:01:27.764025</td>\n      <td>2020</td>\n      <td>5</td>\n      <td>12</td>\n      <td>0</td>\n      <td>1</td>\n      <td>27</td>\n      <td>night</td>\n    </tr>\n    <tr>\n      <th>pavel</th>\n      <td>2020-05-12 00:01:38.444917</td>\n      <td>2020</td>\n      <td>5</td>\n      <td>12</td>\n      <td>0</td>\n      <td>1</td>\n      <td>38</td>\n      <td>night</td>\n    </tr>\n    <tr>\n      <th>pavel</th>\n      <td>2020-05-12 00:01:55.395042</td>\n      <td>2020</td>\n      <td>5</td>\n      <td>12</td>\n      <td>0</td>\n      <td>1</td>\n      <td>55</td>\n      <td>night</td>\n    </tr>\n    <tr>\n      <th>...</th>\n      <td>...</td>\n      <td>...</td>\n      <td>...</td>\n      <td>...</td>\n      <td>...</td>\n      <td>...</td>\n      <td>...</td>\n      <td>...</td>\n    </tr>\n    <tr>\n      <th>artem</th>\n      <td>2020-05-21 23:49:22.386789</td>\n      <td>2020</td>\n      <td>5</td>\n      <td>21</td>\n      <td>23</td>\n      <td>49</td>\n      <td>22</td>\n      <td>evening</td>\n    </tr>\n    <tr>\n      <th>anatoliy</th>\n      <td>2020-05-09 23:53:55.599821</td>\n      <td>2020</td>\n      <td>5</td>\n      <td>9</td>\n      <td>23</td>\n      <td>53</td>\n      <td>55</td>\n      <td>evening</td>\n    </tr>\n    <tr>\n      <th>pavel</th>\n      <td>2020-05-09 23:54:54.260791</td>\n      <td>2020</td>\n      <td>5</td>\n      <td>9</td>\n      <td>23</td>\n      <td>54</td>\n      <td>54</td>\n      <td>evening</td>\n    </tr>\n    <tr>\n      <th>valentina</th>\n      <td>2020-05-14 23:58:56.754866</td>\n      <td>2020</td>\n      <td>5</td>\n      <td>14</td>\n      <td>23</td>\n      <td>58</td>\n      <td>56</td>\n      <td>evening</td>\n    </tr>\n    <tr>\n      <th>alexander</th>\n      <td>2020-05-14 23:59:38.758438</td>\n      <td>2020</td>\n      <td>5</td>\n      <td>14</td>\n      <td>23</td>\n      <td>59</td>\n      <td>38</td>\n      <td>evening</td>\n    </tr>\n  </tbody>\n</table>\n<p>1075 rows × 8 columns</p>\n</div>"
     },
     "execution_count": 133,
     "metadata": {},
     "output_type": "execute_result"
    }
   ],
   "source": [
    "df = df.sort_values(['hour','minute','second'])\n",
    "df"
   ],
   "metadata": {
    "collapsed": false
   }
  },
  {
   "cell_type": "code",
   "execution_count": 134,
   "outputs": [
    {
     "name": "stdout",
     "output_type": "stream",
     "text": [
      "3\n",
      "8\n",
      "konstantin\n",
      "alexander\n"
     ]
    }
   ],
   "source": [
    "max_night = df[df.daytime == 'night']['hour'].max()\n",
    "print(max_night)\n",
    "min_morning = df[df.daytime == 'morning']['hour'].min()\n",
    "print(min_morning)\n",
    "print(*df[df.hour == max_night].index.unique().to_list())\n",
    "print(*df[df.hour == min_morning].index.unique().to_list())"
   ],
   "metadata": {
    "collapsed": false
   }
  },
  {
   "cell_type": "code",
   "execution_count": 135,
   "outputs": [
    {
     "data": {
      "text/plain": "(0    22\n dtype: int64,\n 0    evening\n Name: daytime, dtype: category\n Categories (6, object): ['night' < 'early morning' < 'morning' < 'afternoon' < 'early evening' < 'evening'])"
     },
     "execution_count": 135,
     "metadata": {},
     "output_type": "execute_result"
    }
   ],
   "source": [
    "df.hour.mode(), df.daytime.mode()"
   ],
   "metadata": {
    "collapsed": false
   }
  },
  {
   "cell_type": "code",
   "execution_count": 136,
   "outputs": [
    {
     "data": {
      "text/plain": "(           hour  minute  second\n user                           \n alexander     8      16       3\n alexander     8      35       1\n alexander     9       2      24,\n            hour  minute  second\n user                           \n alexander    23      59      38\n valentina    23      58      56\n pavel        23      54      54)"
     },
     "execution_count": 136,
     "metadata": {},
     "output_type": "execute_result"
    }
   ],
   "source": [
    "morning_small = df[df.daytime == 'morning'].nsmallest(3, ['hour', 'minute', 'second'])[['hour', 'minute', 'second']]\n",
    "large = df.nlargest(3, ['hour', 'minute', 'second'])[['hour', 'minute', 'second']]\n",
    "morning_small, large"
   ],
   "metadata": {
    "collapsed": false
   }
  },
  {
   "cell_type": "code",
   "execution_count": 137,
   "outputs": [
    {
     "data": {
      "text/plain": "         year        month          day         hour       minute       second\ncount  1075.0  1075.000000  1075.000000  1075.000000  1075.000000  1075.000000\nmean   2020.0     4.871628    13.549767    16.253023    29.655814    29.520930\nstd       0.0     0.334659     4.907723     6.957518    17.676027    17.401232\nmin    2020.0     4.000000     1.000000     0.000000     0.000000     0.000000\n25%    2020.0     5.000000    11.000000    13.000000    14.000000    14.000000\n50%    2020.0     5.000000    13.000000    19.000000    29.000000    30.000000\n75%    2020.0     5.000000    15.000000    22.000000    46.000000    45.000000\nmax    2020.0     5.000000    30.000000    23.000000    59.000000    59.000000",
      "text/html": "<div>\n<style scoped>\n    .dataframe tbody tr th:only-of-type {\n        vertical-align: middle;\n    }\n\n    .dataframe tbody tr th {\n        vertical-align: top;\n    }\n\n    .dataframe thead th {\n        text-align: right;\n    }\n</style>\n<table border=\"1\" class=\"dataframe\">\n  <thead>\n    <tr style=\"text-align: right;\">\n      <th></th>\n      <th>year</th>\n      <th>month</th>\n      <th>day</th>\n      <th>hour</th>\n      <th>minute</th>\n      <th>second</th>\n    </tr>\n  </thead>\n  <tbody>\n    <tr>\n      <th>count</th>\n      <td>1075.0</td>\n      <td>1075.000000</td>\n      <td>1075.000000</td>\n      <td>1075.000000</td>\n      <td>1075.000000</td>\n      <td>1075.000000</td>\n    </tr>\n    <tr>\n      <th>mean</th>\n      <td>2020.0</td>\n      <td>4.871628</td>\n      <td>13.549767</td>\n      <td>16.253023</td>\n      <td>29.655814</td>\n      <td>29.520930</td>\n    </tr>\n    <tr>\n      <th>std</th>\n      <td>0.0</td>\n      <td>0.334659</td>\n      <td>4.907723</td>\n      <td>6.957518</td>\n      <td>17.676027</td>\n      <td>17.401232</td>\n    </tr>\n    <tr>\n      <th>min</th>\n      <td>2020.0</td>\n      <td>4.000000</td>\n      <td>1.000000</td>\n      <td>0.000000</td>\n      <td>0.000000</td>\n      <td>0.000000</td>\n    </tr>\n    <tr>\n      <th>25%</th>\n      <td>2020.0</td>\n      <td>5.000000</td>\n      <td>11.000000</td>\n      <td>13.000000</td>\n      <td>14.000000</td>\n      <td>14.000000</td>\n    </tr>\n    <tr>\n      <th>50%</th>\n      <td>2020.0</td>\n      <td>5.000000</td>\n      <td>13.000000</td>\n      <td>19.000000</td>\n      <td>29.000000</td>\n      <td>30.000000</td>\n    </tr>\n    <tr>\n      <th>75%</th>\n      <td>2020.0</td>\n      <td>5.000000</td>\n      <td>15.000000</td>\n      <td>22.000000</td>\n      <td>46.000000</td>\n      <td>45.000000</td>\n    </tr>\n    <tr>\n      <th>max</th>\n      <td>2020.0</td>\n      <td>5.000000</td>\n      <td>30.000000</td>\n      <td>23.000000</td>\n      <td>59.000000</td>\n      <td>59.000000</td>\n    </tr>\n  </tbody>\n</table>\n</div>"
     },
     "execution_count": 137,
     "metadata": {},
     "output_type": "execute_result"
    }
   ],
   "source": [
    "df.describe()"
   ],
   "metadata": {
    "collapsed": false
   }
  },
  {
   "cell_type": "code",
   "execution_count": 138,
   "outputs": [
    {
     "data": {
      "text/plain": "9.0"
     },
     "execution_count": 138,
     "metadata": {},
     "output_type": "execute_result"
    }
   ],
   "source": [
    "iqr = df.describe()['hour']['75%'] - df.describe()['hour']['25%']\n",
    "iqr"
   ],
   "metadata": {
    "collapsed": false
   }
  }
 ],
 "metadata": {
  "kernelspec": {
   "display_name": "Python 3",
   "language": "python",
   "name": "python3"
  },
  "language_info": {
   "codemirror_mode": {
    "name": "ipython",
    "version": 2
   },
   "file_extension": ".py",
   "mimetype": "text/x-python",
   "name": "python",
   "nbconvert_exporter": "python",
   "pygments_lexer": "ipython2",
   "version": "2.7.6"
  }
 },
 "nbformat": 4,
 "nbformat_minor": 0
}
