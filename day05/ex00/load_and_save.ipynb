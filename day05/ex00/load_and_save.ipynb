{
 "cells": [
  {
   "cell_type": "code",
   "execution_count": 256,
   "outputs": [],
   "source": [
    "import pandas as pd"
   ],
   "metadata": {
    "collapsed": false
   }
  },
  {
   "cell_type": "code",
   "execution_count": 257,
   "metadata": {
    "collapsed": true
   },
   "outputs": [
    {
     "data": {
      "text/plain": "                              user\ndatetime                          \n2020-04-17 12:01:23.743946   artem\n2020-04-17 12:35:52.735016   artem\n2020-04-17 12:36:21.401412  oksana\n2020-04-17 12:36:22.023355  oksana\n2020-04-17 13:55:19.129243   artem",
      "text/html": "<div>\n<style scoped>\n    .dataframe tbody tr th:only-of-type {\n        vertical-align: middle;\n    }\n\n    .dataframe tbody tr th {\n        vertical-align: top;\n    }\n\n    .dataframe thead th {\n        text-align: right;\n    }\n</style>\n<table border=\"1\" class=\"dataframe\">\n  <thead>\n    <tr style=\"text-align: right;\">\n      <th></th>\n      <th>user</th>\n    </tr>\n    <tr>\n      <th>datetime</th>\n      <th></th>\n    </tr>\n  </thead>\n  <tbody>\n    <tr>\n      <th>2020-04-17 12:01:23.743946</th>\n      <td>artem</td>\n    </tr>\n    <tr>\n      <th>2020-04-17 12:35:52.735016</th>\n      <td>artem</td>\n    </tr>\n    <tr>\n      <th>2020-04-17 12:36:21.401412</th>\n      <td>oksana</td>\n    </tr>\n    <tr>\n      <th>2020-04-17 12:36:22.023355</th>\n      <td>oksana</td>\n    </tr>\n    <tr>\n      <th>2020-04-17 13:55:19.129243</th>\n      <td>artem</td>\n    </tr>\n  </tbody>\n</table>\n</div>"
     },
     "execution_count": 257,
     "metadata": {},
     "output_type": "execute_result"
    }
   ],
   "source": [
    "df = pd.read_csv('../data/feed-views.log', sep='\\t', skiprows=[2, 3], skipfooter=2, engine='python', header=0, names=['datetime', 'user'], index_col='datetime')\n",
    "df.head()"
   ]
  },
  {
   "cell_type": "code",
   "execution_count": 258,
   "outputs": [
    {
     "data": {
      "text/plain": "                                 user\ndatetime                             \n2020-05-21 16:36:40.915488  ekaterina\n2020-05-21 17:49:36.429237      maxim\n2020-05-21 18:45:20.441142  valentina\n2020-05-21 23:03:06.457819      maxim\n2020-05-21 23:23:49.995349      pavel",
      "text/html": "<div>\n<style scoped>\n    .dataframe tbody tr th:only-of-type {\n        vertical-align: middle;\n    }\n\n    .dataframe tbody tr th {\n        vertical-align: top;\n    }\n\n    .dataframe thead th {\n        text-align: right;\n    }\n</style>\n<table border=\"1\" class=\"dataframe\">\n  <thead>\n    <tr style=\"text-align: right;\">\n      <th></th>\n      <th>user</th>\n    </tr>\n    <tr>\n      <th>datetime</th>\n      <th></th>\n    </tr>\n  </thead>\n  <tbody>\n    <tr>\n      <th>2020-05-21 16:36:40.915488</th>\n      <td>ekaterina</td>\n    </tr>\n    <tr>\n      <th>2020-05-21 17:49:36.429237</th>\n      <td>maxim</td>\n    </tr>\n    <tr>\n      <th>2020-05-21 18:45:20.441142</th>\n      <td>valentina</td>\n    </tr>\n    <tr>\n      <th>2020-05-21 23:03:06.457819</th>\n      <td>maxim</td>\n    </tr>\n    <tr>\n      <th>2020-05-21 23:23:49.995349</th>\n      <td>pavel</td>\n    </tr>\n  </tbody>\n</table>\n</div>"
     },
     "execution_count": 258,
     "metadata": {},
     "output_type": "execute_result"
    }
   ],
   "source": [
    "df.tail()"
   ],
   "metadata": {
    "collapsed": false
   }
  },
  {
   "cell_type": "code",
   "execution_count": 259,
   "outputs": [
    {
     "data": {
      "text/plain": "                              user\ndate_time                         \n2020-04-17 12:01:23.743946   artem\n2020-04-17 12:35:52.735016   artem\n2020-04-17 12:36:21.401412  oksana\n2020-04-17 12:36:22.023355  oksana\n2020-04-17 13:55:19.129243   artem",
      "text/html": "<div>\n<style scoped>\n    .dataframe tbody tr th:only-of-type {\n        vertical-align: middle;\n    }\n\n    .dataframe tbody tr th {\n        vertical-align: top;\n    }\n\n    .dataframe thead th {\n        text-align: right;\n    }\n</style>\n<table border=\"1\" class=\"dataframe\">\n  <thead>\n    <tr style=\"text-align: right;\">\n      <th></th>\n      <th>user</th>\n    </tr>\n    <tr>\n      <th>date_time</th>\n      <th></th>\n    </tr>\n  </thead>\n  <tbody>\n    <tr>\n      <th>2020-04-17 12:01:23.743946</th>\n      <td>artem</td>\n    </tr>\n    <tr>\n      <th>2020-04-17 12:35:52.735016</th>\n      <td>artem</td>\n    </tr>\n    <tr>\n      <th>2020-04-17 12:36:21.401412</th>\n      <td>oksana</td>\n    </tr>\n    <tr>\n      <th>2020-04-17 12:36:22.023355</th>\n      <td>oksana</td>\n    </tr>\n    <tr>\n      <th>2020-04-17 13:55:19.129243</th>\n      <td>artem</td>\n    </tr>\n  </tbody>\n</table>\n</div>"
     },
     "execution_count": 259,
     "metadata": {},
     "output_type": "execute_result"
    }
   ],
   "source": [
    "df.rename_axis(index={\"datetime\": \"date_time\"}, inplace=True)\n",
    "df.to_csv('feed-views-semicolon.log', sep=';')\n",
    "df.head()"
   ],
   "metadata": {
    "collapsed": false
   }
  },
  {
   "cell_type": "code",
   "execution_count": 260,
   "outputs": [
    {
     "data": {
      "text/plain": "                      date_time;user\n0   2020-04-17 12:01:23.743946;artem\n1   2020-04-17 12:35:52.735016;artem\n2  2020-04-17 12:36:21.401412;oksana\n3  2020-04-17 12:36:22.023355;oksana\n4   2020-04-17 13:55:19.129243;artem",
      "text/html": "<div>\n<style scoped>\n    .dataframe tbody tr th:only-of-type {\n        vertical-align: middle;\n    }\n\n    .dataframe tbody tr th {\n        vertical-align: top;\n    }\n\n    .dataframe thead th {\n        text-align: right;\n    }\n</style>\n<table border=\"1\" class=\"dataframe\">\n  <thead>\n    <tr style=\"text-align: right;\">\n      <th></th>\n      <th>date_time;user</th>\n    </tr>\n  </thead>\n  <tbody>\n    <tr>\n      <th>0</th>\n      <td>2020-04-17 12:01:23.743946;artem</td>\n    </tr>\n    <tr>\n      <th>1</th>\n      <td>2020-04-17 12:35:52.735016;artem</td>\n    </tr>\n    <tr>\n      <th>2</th>\n      <td>2020-04-17 12:36:21.401412;oksana</td>\n    </tr>\n    <tr>\n      <th>3</th>\n      <td>2020-04-17 12:36:22.023355;oksana</td>\n    </tr>\n    <tr>\n      <th>4</th>\n      <td>2020-04-17 13:55:19.129243;artem</td>\n    </tr>\n  </tbody>\n</table>\n</div>"
     },
     "execution_count": 260,
     "metadata": {},
     "output_type": "execute_result"
    }
   ],
   "source": [
    "df2 = pd.read_csv('feed-views-semicolon.log')\n",
    "df2.head(5)"
   ],
   "metadata": {
    "collapsed": false
   }
  }
 ],
 "metadata": {
  "kernelspec": {
   "display_name": "Python 3",
   "language": "python",
   "name": "python3"
  },
  "language_info": {
   "codemirror_mode": {
    "name": "ipython",
    "version": 2
   },
   "file_extension": ".py",
   "mimetype": "text/x-python",
   "name": "python",
   "nbconvert_exporter": "python",
   "pygments_lexer": "ipython2",
   "version": "2.7.6"
  }
 },
 "nbformat": 4,
 "nbformat_minor": 0
}
